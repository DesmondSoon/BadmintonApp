{
 "cells": [
  {
   "cell_type": "markdown",
   "metadata": {},
   "source": [
    "# Create a class player"
   ]
  },
  {
   "cell_type": "code",
   "execution_count": 1,
   "metadata": {},
   "outputs": [
    {
     "name": "stdout",
     "output_type": "stream",
     "text": [
      "[Dess Sitdown: 0]\n",
      "[Dess Sitdown: 0, Hendi Sitdown: 0]\n",
      "[Dess Sitdown: 0, Hendi Sitdown: 0, Yijie Sitdown: 0]\n",
      "[Dess Sitdown: 0, Hendi Sitdown: 0, Yijie Sitdown: 0, Darragh Sitdown: 0]\n",
      "[Dess Sitdown: 0, Hendi Sitdown: 0, Yijie Sitdown: 0, Darragh Sitdown: 0, Gary Sitdown: 0]\n",
      "[Dess Sitdown: 0, Hendi Sitdown: 0, Yijie Sitdown: 0, Darragh Sitdown: 0, Gary Sitdown: 0, Vernon Sitdown: 0]\n"
     ]
    }
   ],
   "source": [
    "class Player():\n",
    "    \n",
    "    def __init__(self,name,sitdown = 0):\n",
    "        self.name = name\n",
    "        self.sitdown = sitdown\n",
    "    \n",
    "    def __str__(self):\n",
    "        return self.name + \" \" + \"Sitdown: \" + str(self.sitdown)\n",
    "    \n",
    "    def __repr__(self):\n",
    "        return self.__str__()\n",
    "    \n",
    "# Player_names list\n",
    "\n",
    "player_names = ['Dess', 'Hendi', 'Yijie', 'Darragh', 'Gary', 'Vernon']\n",
    "\n",
    "# Attaching it into a List name players.\n",
    "\n",
    "players = []\n",
    "\n",
    "for names in player_names:\n",
    "    # Setting instance to class\n",
    "    p = Player(names)\n",
    "    # Adding to players list\n",
    "    players.append(p)\n",
    "    print(players)\n",
    "\n",
    "\n",
    "        "
   ]
  },
  {
   "cell_type": "markdown",
   "metadata": {},
   "source": [
    "## Creating the match ('consist of 4 players(random)')"
   ]
  },
  {
   "cell_type": "code",
   "execution_count": 2,
   "metadata": {},
   "outputs": [],
   "source": [
    "import random\n",
    "\n",
    "# Create a function selecting 4 players and store its history of selected.\n",
    "\n",
    "def make_random_match(players):\n",
    "    \n",
    "    # Four picked players\n",
    "    pick_players = []\n",
    "    # History of players selected.\n",
    "    selected = []\n",
    "    \n",
    "    while len(pick_players) < 4:\n",
    "        \n",
    "        randm = random.randint(0,5)\n",
    "        \n",
    "        if randm in selected:\n",
    "            continue\n",
    "        \n",
    "        pick_players.append(players[randm])\n",
    "        selected.append(randm)\n",
    "    return pick_players\n",
    "\n",
    "## The Shuffle function.\n",
    "\n",
    "def shuffle_players(players):\n",
    "    random.shuffle(players)\n",
    "    return players[:4]\n",
    "\n",
    "    "
   ]
  },
  {
   "cell_type": "markdown",
   "metadata": {},
   "source": [
    "### Generating rounds, Consisting of 4 players\n",
    "Take into account sitdown time and selected history"
   ]
  },
  {
   "cell_type": "code",
   "execution_count": 7,
   "metadata": {},
   "outputs": [],
   "source": [
    "\n",
    "\n",
    "def generate_rounds(players,num_of_rounds):\n",
    "    \n",
    "    \n",
    "    for _ in range(num_of_rounds):\n",
    "        \n",
    "        picked = shuffle_players(players)\n",
    "        print (picked)\n",
    "        \n",
    "        for p in players:\n",
    "            if p in picked:\n",
    "                p.sitdown += 0\n",
    "            else:\n",
    "                p.sitdown += 1\n",
    "        \n",
    "        max_sit = 0\n",
    "        for p in players:\n",
    "            if max_sit < p.sitdown:\n",
    "                max_sit = p.sitdown\n",
    "        print(max_sit)\n",
    "        "
   ]
  },
  {
   "cell_type": "code",
   "execution_count": 8,
   "metadata": {},
   "outputs": [
    {
     "name": "stdout",
     "output_type": "stream",
     "text": [
      "[Vernon Sitdown: 0, Yijie Sitdown: 0, Gary Sitdown: 0, Darragh Sitdown: 0]\n",
      "1\n",
      "[Vernon Sitdown: 0, Yijie Sitdown: 0, Gary Sitdown: 0, Dess Sitdown: 1]\n",
      "2\n",
      "[Gary Sitdown: 0, Yijie Sitdown: 0, Darragh Sitdown: 1, Hendi Sitdown: 2]\n",
      "2\n",
      "[Dess Sitdown: 2, Gary Sitdown: 0, Vernon Sitdown: 1, Hendi Sitdown: 2]\n",
      "2\n",
      "[Yijie Sitdown: 1, Hendi Sitdown: 2, Vernon Sitdown: 1, Darragh Sitdown: 2]\n",
      "3\n",
      "[Yijie Sitdown: 1, Hendi Sitdown: 2, Dess Sitdown: 3, Gary Sitdown: 1]\n",
      "3\n",
      "[Hendi Sitdown: 2, Yijie Sitdown: 1, Dess Sitdown: 3, Darragh Sitdown: 3]\n",
      "3\n",
      "[Hendi Sitdown: 2, Dess Sitdown: 3, Darragh Sitdown: 3, Vernon Sitdown: 3]\n",
      "3\n",
      "[Darragh Sitdown: 3, Vernon Sitdown: 3, Gary Sitdown: 3, Yijie Sitdown: 2]\n",
      "4\n",
      "[Dess Sitdown: 4, Hendi Sitdown: 3, Vernon Sitdown: 3, Gary Sitdown: 3]\n",
      "4\n"
     ]
    }
   ],
   "source": [
    "generate_rounds(players,10)"
   ]
  },
  {
   "cell_type": "markdown",
   "metadata": {},
   "source": [
    "## Using Shuffle and sorting - instead of randint\n",
    "\n",
    "Using still the same class but sorting players through instead of random select."
   ]
  },
  {
   "cell_type": "code",
   "execution_count": 11,
   "metadata": {},
   "outputs": [],
   "source": [
    "class Player:\n",
    "    def __init__(self, name, sitdown = 0):\n",
    "        self.name = name\n",
    "        self.sitdown = sitdown\n",
    "    \n",
    "    def __str__(self):\n",
    "        return self.name + \" \" + 'Sitdown'+ ':' + str(self.sitdown)\n",
    "    \n",
    "    def __repr__(self):\n",
    "        # returning the str method above.\n",
    "        return self.__str__()\n",
    "    \n"
   ]
  },
  {
   "cell_type": "code",
   "execution_count": 13,
   "metadata": {},
   "outputs": [],
   "source": [
    "# Same players\n",
    "player_names = ['Dess', 'Hendi', 'Yijie', 'Darragh', 'Gary', 'Vernon']"
   ]
  },
  {
   "cell_type": "code",
   "execution_count": 15,
   "metadata": {},
   "outputs": [
    {
     "name": "stdout",
     "output_type": "stream",
     "text": [
      "[Dess Sitdown:0]\n",
      "[Dess Sitdown:0, Hendi Sitdown:0]\n",
      "[Dess Sitdown:0, Hendi Sitdown:0, Yijie Sitdown:0]\n",
      "[Dess Sitdown:0, Hendi Sitdown:0, Yijie Sitdown:0, Darragh Sitdown:0]\n",
      "[Dess Sitdown:0, Hendi Sitdown:0, Yijie Sitdown:0, Darragh Sitdown:0, Gary Sitdown:0]\n",
      "[Dess Sitdown:0, Hendi Sitdown:0, Yijie Sitdown:0, Darragh Sitdown:0, Gary Sitdown:0, Vernon Sitdown:0]\n"
     ]
    }
   ],
   "source": [
    "# Create 3 players\n",
    "# 1. Setting players into a list.\n",
    "players = []\n",
    "\n",
    "# 2. Loop through the players in given list.\n",
    "# 3. Attaching var to class object\n",
    "# 4. .append method into the players list.\n",
    "\n",
    "for name in player_names:\n",
    "    p = Player(name)\n",
    "    players.append(p)\n",
    "    print (players)\n",
    "   \n",
    "    \n",
    "# player1 = Player(\"Dess\")\n",
    "# p2 = Player(\"Hendi\")\n",
    "\n",
    "# #list of players\n",
    "# players = [player1, p2]\n",
    "# player1.name"
   ]
  },
  {
   "cell_type": "code",
   "execution_count": 16,
   "metadata": {},
   "outputs": [],
   "source": [
    "def make_a_smart_match(players):\n",
    "    # imported from random library\n",
    "    random.shuffle(players)\n",
    "    # Using lamda expression and reversing the sorted call.\n",
    "    srt = sorted(players,key = lambda p:p.sitdown, reverse=True)\n",
    "    \n",
    "    # returning variable srt and slicing from (0,3)\n",
    "    return srt[:4]"
   ]
  },
  {
   "cell_type": "code",
   "execution_count": 17,
   "metadata": {},
   "outputs": [
    {
     "data": {
      "text/plain": [
       "[Hendi Sitdown:0, Vernon Sitdown:0, Dess Sitdown:0, Darragh Sitdown:0]"
      ]
     },
     "execution_count": 17,
     "metadata": {},
     "output_type": "execute_result"
    }
   ],
   "source": [
    "make_a_smart_match(players)"
   ]
  },
  {
   "cell_type": "code",
   "execution_count": 18,
   "metadata": {},
   "outputs": [],
   "source": [
    "def generate_smart_rounds(players, num_of_rounds):\n",
    "    \n",
    "    for _ in range(num_of_rounds):\n",
    "        picked = make_a_smart_match(players)\n",
    "        print(picked)\n",
    "        \n",
    "        for p in players:\n",
    "            if p in picked:\n",
    "                p.sitdown = 0\n",
    "            else:\n",
    "                p.sitdown += 1\n",
    "        \n",
    "        max_number = 0\n",
    "        \n",
    "        for p in players:\n",
    "            if max_number < p.sitdown:\n",
    "                max_number = p.sitdown\n",
    "                \n",
    "        print (max_number)"
   ]
  },
  {
   "cell_type": "code",
   "execution_count": 19,
   "metadata": {},
   "outputs": [
    {
     "name": "stdout",
     "output_type": "stream",
     "text": [
      "[Yijie Sitdown:0, Darragh Sitdown:0, Hendi Sitdown:0, Vernon Sitdown:0]\n",
      "1\n",
      "[Gary Sitdown:1, Dess Sitdown:1, Vernon Sitdown:0, Hendi Sitdown:0]\n",
      "1\n",
      "[Yijie Sitdown:1, Darragh Sitdown:1, Gary Sitdown:0, Dess Sitdown:0]\n",
      "1\n",
      "[Vernon Sitdown:1, Hendi Sitdown:1, Yijie Sitdown:0, Gary Sitdown:0]\n",
      "1\n",
      "[Dess Sitdown:1, Darragh Sitdown:1, Hendi Sitdown:0, Gary Sitdown:0]\n",
      "1\n",
      "[Yijie Sitdown:1, Vernon Sitdown:1, Dess Sitdown:0, Darragh Sitdown:0]\n",
      "1\n",
      "[Hendi Sitdown:1, Gary Sitdown:1, Darragh Sitdown:0, Yijie Sitdown:0]\n",
      "1\n",
      "[Vernon Sitdown:1, Dess Sitdown:1, Darragh Sitdown:0, Gary Sitdown:0]\n",
      "1\n",
      "[Yijie Sitdown:1, Hendi Sitdown:1, Darragh Sitdown:0, Vernon Sitdown:0]\n",
      "1\n",
      "[Gary Sitdown:1, Dess Sitdown:1, Darragh Sitdown:0, Yijie Sitdown:0]\n",
      "1\n"
     ]
    }
   ],
   "source": [
    "generate_smart_rounds(players, 10)"
   ]
  },
  {
   "cell_type": "code",
   "execution_count": null,
   "metadata": {},
   "outputs": [],
   "source": []
  }
 ],
 "metadata": {
  "kernelspec": {
   "display_name": "Python 3",
   "language": "python",
   "name": "python3"
  },
  "language_info": {
   "codemirror_mode": {
    "name": "ipython",
    "version": 3
   },
   "file_extension": ".py",
   "mimetype": "text/x-python",
   "name": "python",
   "nbconvert_exporter": "python",
   "pygments_lexer": "ipython3",
   "version": "3.7.3"
  }
 },
 "nbformat": 4,
 "nbformat_minor": 2
}
